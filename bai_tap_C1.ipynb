{
 "cells": [
  {
   "attachments": {},
   "cell_type": "markdown",
   "metadata": {},
   "source": [
    "Thực Hành 1.1\n"
   ]
  },
  {
   "cell_type": "code",
   "execution_count": 2,
   "metadata": {},
   "outputs": [
    {
     "name": "stdout",
     "output_type": "stream",
     "text": [
      "Phần tử được tìm thấy tại vị trí là: 5\n"
     ]
    }
   ],
   "source": [
    "def tuyen_tinh(array, n, x):\n",
    "    for i in range(0, n):\n",
    "        if (array[i] == x):\n",
    "            return i\n",
    "    return -1\n",
    "array = [20, 30, 15, 5, 10, 40]\n",
    "x = 40\n",
    "n = len(array)\n",
    "result = tuyen_tinh(array, n, x)\n",
    "print(\"Phần tử được tìm thấy tại vị trí là:\", result)"
   ]
  },
  {
   "attachments": {},
   "cell_type": "markdown",
   "metadata": {},
   "source": [
    "Thuc hanh 1.2"
   ]
  },
  {
   "cell_type": "code",
   "execution_count": 19,
   "metadata": {},
   "outputs": [
    {
     "name": "stdout",
     "output_type": "stream",
     "text": [
      "Phần tử được tìm thấy tại vị trí là: 6\n"
     ]
    }
   ],
   "source": [
    "def tuyen_tinh(array, n, x):\n",
    "    for i in range(0, n):\n",
    "        if (array[i] == x):\n",
    "            return i\n",
    "    return -1\n",
    "array = [15, 25, 80, 30, 60, 50, 110, 100, 130, 180]\n",
    "x = 110\n",
    "n = len(array)\n",
    "result = tuyen_tinh(array, n, x)\n",
    "print(\"Phần tử được tìm thấy tại vị trí là:\", result)"
   ]
  },
  {
   "cell_type": "code",
   "execution_count": 22,
   "metadata": {},
   "outputs": [
    {
     "name": "stdout",
     "output_type": "stream",
     "text": [
      "Phan tu khong duoc tim thay trong mang\n"
     ]
    }
   ],
   "source": [
    "def tuyen_tinh(array, n, x):\n",
    "    for i in range(0, n):\n",
    "        if (array[i] == x):\n",
    "            return i\n",
    "    return -1\n",
    "array = [15, 25, 80, 30, 60, 50, 110, 100, 130, 180]\n",
    "x = 185\n",
    "n = len(array)\n",
    "result = tuyen_tinh(array, n, x)\n",
    "if result != -1:\n",
    "    print(\"Phần tử được tìm thấy tại vị trí là:\", result)\n",
    "else:\n",
    "    print(\"Phan tu khong duoc tim thay trong mang\")"
   ]
  },
  {
   "attachments": {},
   "cell_type": "markdown",
   "metadata": {},
   "source": [
    "Thực hành 2.1"
   ]
  },
  {
   "cell_type": "code",
   "execution_count": 3,
   "metadata": {},
   "outputs": [
    {
     "name": "stdout",
     "output_type": "stream",
     "text": [
      "Phan tu tim kiem duoc la: 8\n"
     ]
    }
   ],
   "source": [
    "import math\n",
    "def binary_search(array, element):\n",
    "    mid = 0\n",
    "    start = 0\n",
    "    end = len(array)\n",
    "    step = 0\n",
    "\n",
    "    while (start <= end):\n",
    "        step = step+1\n",
    "        mid = (start + end) // 2\n",
    "        \n",
    "        if element == array[mid]:\n",
    "            return mid\n",
    "        \n",
    "        if element < array[mid]:\n",
    "            end = mid - 1\n",
    "        else:\n",
    "            start = mid + 1\n",
    "    return -1\n",
    "\n",
    "array = [0, 4, 5, 9, 13, 15, 18, 24, 28, 29, 35]\n",
    "element = 28\n",
    "result = binary_search(array, element)\n",
    "print(\"Phan tu tim kiem duoc la:\", result)"
   ]
  },
  {
   "attachments": {},
   "cell_type": "markdown",
   "metadata": {},
   "source": [
    "Thực hành 2.2\n"
   ]
  },
  {
   "cell_type": "code",
   "execution_count": 16,
   "metadata": {},
   "outputs": [
    {
     "name": "stdout",
     "output_type": "stream",
     "text": [
      "Không tìm thấy giá trị trong mang\n"
     ]
    }
   ],
   "source": [
    "import math\n",
    "def binary_search(arr, key): #khai báo hàm binary_search với biến arr(danh sách mạng) và key(giá trị cần tìm)\n",
    "    mid = 0 #Khai báo mid gía trị bằng 0\n",
    "    left = 0\n",
    "    right = len(arr)\n",
    "    step = 0\n",
    "    while (left <= right): #vòng lập while \n",
    "        step = step+1\n",
    "        mid = (left + right) // 2\n",
    "        if mid < 0 or mid >= len(arr):\n",
    "            return -1\n",
    "        if (key == arr[mid]): #kiểm tra giá trị tại mid có bằng giá trị key cần tìm\n",
    "            return mid\n",
    "        if (key < arr[mid]): #kiểm tra key < mid \n",
    "            right = mid - 1\n",
    "        else:\n",
    "            left = mid + 1\n",
    "    return -1\n",
    "arr = [0, 4, 5, 9, 13, 15, 18, 24, 28, 29, 35]\n",
    "key = 40\n",
    "result = binary_search(arr, key)\n",
    "if result != -1: # Nếu giá trị trả về không phải là -1, tức là tìm thấy\n",
    "    print(\"Vi tri tim kiem thu i la:\", result)\n",
    "else: # Ngược lại, nếu giá trị trả về là -1\n",
    "    print(\"Không tìm thấy giá trị trong mang\")"
   ]
  },
  {
   "attachments": {},
   "cell_type": "markdown",
   "metadata": {},
   "source": [
    "Thực hành 2.3"
   ]
  },
  {
   "cell_type": "code",
   "execution_count": 15,
   "metadata": {},
   "outputs": [
    {
     "name": "stdout",
     "output_type": "stream",
     "text": [
      "Vi tri tim thay thu i la: 8\n"
     ]
    }
   ],
   "source": [
    "def binary_search(arr, left, right, key):\n",
    "    if (right >= left):\n",
    "        mid = (left + right) //2\n",
    "        if (arr[mid] == key):\n",
    "            return mid\n",
    "        elif (arr[mid] > key):\n",
    "            return binary_search(arr, left, mid - 1, key)\n",
    "        else:\n",
    "            return binary_search(arr, mid + 1, right, key)\n",
    "    else:\n",
    "        #Khong tim thay\n",
    "        return -1\n",
    "\n",
    "arr = [1, 3, 9, 10, 40, 52, 55, 180, 250, 350]\n",
    "key = 250\n",
    "result = binary_search(arr, 0, len(arr)-1, key)\n",
    "\n",
    "if(result!=-1):\n",
    "    print(\"Vi tri tim thay thu i la:\", str(result))\n",
    "else:\n",
    "    print('Khong tim thay phan tu trong mang')"
   ]
  },
  {
   "attachments": {},
   "cell_type": "markdown",
   "metadata": {},
   "source": [
    "Thuc hanh 2.4a"
   ]
  },
  {
   "cell_type": "code",
   "execution_count": 23,
   "metadata": {},
   "outputs": [
    {
     "name": "stdout",
     "output_type": "stream",
     "text": [
      "Khong tim thay phan tu trong mang\n"
     ]
    }
   ],
   "source": [
    "def binary_search(arr, left, right, key):\n",
    "    if (right >= left):\n",
    "        mid = (left + right) //2\n",
    "        if (arr[mid] == key):\n",
    "            return mid\n",
    "        elif (arr[mid] > key):\n",
    "            return binary_search(arr, left, mid - 1, key)\n",
    "        else:\n",
    "            return binary_search(arr, mid + 1, right, key)\n",
    "    else:\n",
    "        #Khong tim thay\n",
    "        return -1\n",
    "\n",
    "arr = [2, 5, 8, 12, 16, 23, 38, 56, 72, 91]\n",
    "key = 95\n",
    "result = binary_search(arr, 0, len(arr)-1, key)\n",
    "\n",
    "if(result!=-1):\n",
    "    print(\"Vi tri tim thay thu i la:\", str(result))\n",
    "else:\n",
    "    print('Khong tim thay phan tu trong mang')"
   ]
  },
  {
   "attachments": {},
   "cell_type": "markdown",
   "metadata": {},
   "source": [
    "Thuc hanh 2.4b"
   ]
  },
  {
   "cell_type": "code",
   "execution_count": 18,
   "metadata": {},
   "outputs": [
    {
     "name": "stdout",
     "output_type": "stream",
     "text": [
      "Vi tri tim thay thu i la: 1\n"
     ]
    }
   ],
   "source": [
    "def binary_search(arr, left, right, key):\n",
    "    if (right >= left):\n",
    "        mid = (left + right) //2\n",
    "        if (arr[mid] == key):\n",
    "            return mid\n",
    "        elif (arr[mid] > key):\n",
    "            return binary_search(arr, left, mid - 1, key)\n",
    "        else:\n",
    "            return binary_search(arr, mid + 1, right, key)\n",
    "    else:\n",
    "        #Khong tim thay\n",
    "        return -1\n",
    "\n",
    "arr = [2, 5, 8, 12, 16, 23, 38, 56, 72, 91]\n",
    "key = 5\n",
    "result = binary_search(arr, 0, len(arr)-1, key)\n",
    "\n",
    "if(result!=-1):\n",
    "    print(\"Vi tri tim thay thu i la:\", str(result))\n",
    "else:\n",
    "    print('Khong tim thay phan tu trong mang')"
   ]
  }
 ],
 "metadata": {
  "kernelspec": {
   "display_name": "Python 3",
   "language": "python",
   "name": "python3"
  },
  "language_info": {
   "codemirror_mode": {
    "name": "ipython",
    "version": 3
   },
   "file_extension": ".py",
   "mimetype": "text/x-python",
   "name": "python",
   "nbconvert_exporter": "python",
   "pygments_lexer": "ipython3",
   "version": "3.11.0"
  },
  "orig_nbformat": 4,
  "vscode": {
   "interpreter": {
    "hash": "c261aea317cc0286b3b3261fbba9abdec21eaa57589985bb7a274bf54d6cc0a7"
   }
  }
 },
 "nbformat": 4,
 "nbformat_minor": 2
}
