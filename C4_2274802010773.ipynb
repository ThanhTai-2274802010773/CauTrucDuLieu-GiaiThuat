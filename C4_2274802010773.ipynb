{
 "cells": [
  {
   "attachments": {},
   "cell_type": "markdown",
   "metadata": {},
   "source": [
    "### Thực hành 1.1:"
   ]
  },
  {
   "cell_type": "code",
   "execution_count": 1,
   "metadata": {},
   "outputs": [
    {
     "name": "stdout",
     "output_type": "stream",
     "text": [
      "['hanoi', 'saigon', 'danang', 'nhatrang', 'cantho']\n",
      "['hanoi', 'saigon', 'cantho', 'danang', 'nhatrang', 'cantho']\n",
      "['hanoi', 'saigon', 'cantho', 'Hue', 'danang', 'nhatrang', 'cantho']\n",
      "['cantho', 'danang', 'hanoi', 'nhatrang', 'saigon']\n",
      "[15, 23, 50, 65, 82, 100]\n",
      "list1[1]:  data science\n",
      "list2[2:8]:  [2, 3, 4, 5, 6, 7]\n"
     ]
    }
   ],
   "source": [
    "#Array List\n",
    "thislist = [\"hanoi\", \"saigon\", \"danang\", \"nhatrang\", \"cantho\"]\n",
    "print(thislist)\n",
    "\n",
    "thislist.insert(2, \"cantho\") #insert\n",
    "print(thislist)\n",
    "\n",
    "thislist.insert(3, \"Hue\")\n",
    "print(thislist)\n",
    "\n",
    "thislist = [\"hanoi\", \"saigon\", \"danang\", \"nhatrang\"]\n",
    "thislist.pop(2) #pop\n",
    "\n",
    "thislist = [\"hanoi\", \"saigon\", \"danang\", \"nhatrang\", \"cantho\"]\n",
    "thislist.sort()\n",
    "print(thislist)\n",
    "\n",
    "thislist = [100, 15, 50, 65, 82, 23]\n",
    "thislist.sort() #sort\n",
    "print(thislist)\n",
    "\n",
    "list1 = ['data analytics', 'data science', 'data structures and algorithms', 2020, 2021]\n",
    "list2 = [0, 1, 2, 3, 4, 5, 6, 7, 8, 9]\n",
    "print (\"list1[1]: \", list1[1])\n",
    "print (\"list2[2:8]: \", list2[2:8])"
   ]
  },
  {
   "attachments": {},
   "cell_type": "markdown",
   "metadata": {},
   "source": [
    "### Thực hành 1.2:"
   ]
  },
  {
   "cell_type": "code",
   "execution_count": 3,
   "metadata": {},
   "outputs": [
    {
     "name": "stdout",
     "output_type": "stream",
     "text": [
      "\n",
      " Danh sach cac so:\n",
      "[0, 2, 4, 10, 30, 15, 25, 60, 50]\n",
      "\n",
      " Danh sach voi cac gia tri hon hop:\n",
      "[4, 4, 'Data Science', 5, 'For', 10, 'Machine Learning']\n"
     ]
    }
   ],
   "source": [
    "List1 = [0, 2, 4, 10, 30, 15, 25, 60, 50]\n",
    "print(\"\\n Danh sach cac so:\")\n",
    "print(List1)\n",
    "\n",
    "List2 = [4, 4, 'Data Science', 5, 'For', 10, 'Machine Learning']\n",
    "print(\"\\n Danh sach voi cac gia tri hon hop:\")\n",
    "print(List2)"
   ]
  },
  {
   "attachments": {},
   "cell_type": "markdown",
   "metadata": {},
   "source": [
    "### Thực hành 2.1:"
   ]
  },
  {
   "cell_type": "code",
   "execution_count": 6,
   "metadata": {},
   "outputs": [
    {
     "name": "stdout",
     "output_type": "stream",
     "text": [
      "10\n",
      "11\n",
      "12\n"
     ]
    }
   ],
   "source": [
    "#Linked List;\n",
    "class Node:\n",
    "    def __init__(self, data):\n",
    "        self.data = data # data\n",
    "        self.next = None # Initialize next as null\n",
    "\n",
    "class LinkedList:\n",
    "    def __init__(self):\n",
    "        self.head = None\n",
    "\n",
    "    def printList(self):\n",
    "        temp = self.head\n",
    "        while (temp):\n",
    "            print (temp.data)\n",
    "            temp = temp.next\n",
    "            \n",
    "if __name__=='__main__':\n",
    "    llist = LinkedList()\n",
    "    llist.head = Node(10)\n",
    "    second = Node(11)\n",
    "    third = Node(12)\n",
    "    llist.head.next = second; # Link first with second\n",
    "    second.next = third; # Link second with the third\n",
    "    llist.printList()"
   ]
  },
  {
   "attachments": {},
   "cell_type": "markdown",
   "metadata": {},
   "source": [
    "### Thực hành 2.2:\n"
   ]
  },
  {
   "cell_type": "code",
   "execution_count": 5,
   "metadata": {},
   "outputs": [
    {
     "name": "stdout",
     "output_type": "stream",
     "text": [
      "deque([1, 2, 3, 4, 5, 6])\n",
      "1\n",
      "2\n",
      "3\n",
      "4\n",
      "5\n",
      "6\n",
      "6 deque([1, 2, 3, 4, 5])\n"
     ]
    }
   ],
   "source": [
    "#Linked_list\n",
    "from collections import deque\n",
    "deque()\n",
    "deque([{'data': 'a'}, {'data': 'b'}])\n",
    "llist = deque(\"abcd\")\n",
    "llist\n",
    "llist.append(\"h\") \n",
    "llist\n",
    "llist.pop() \n",
    "llist \n",
    "\n",
    "from collections import deque\n",
    "d = deque([1,2,3,4,5,6])\n",
    "print(d)\n",
    "for i in d:\n",
    "    print(i)\n",
    "    \n",
    "print(d.pop(), d)"
   ]
  }
 ],
 "metadata": {
  "kernelspec": {
   "display_name": "Python 3",
   "language": "python",
   "name": "python3"
  },
  "language_info": {
   "codemirror_mode": {
    "name": "ipython",
    "version": 3
   },
   "file_extension": ".py",
   "mimetype": "text/x-python",
   "name": "python",
   "nbconvert_exporter": "python",
   "pygments_lexer": "ipython3",
   "version": "3.11.0 (main, Oct 24 2022, 18:26:48) [MSC v.1933 64 bit (AMD64)]"
  },
  "orig_nbformat": 4,
  "vscode": {
   "interpreter": {
    "hash": "c261aea317cc0286b3b3261fbba9abdec21eaa57589985bb7a274bf54d6cc0a7"
   }
  }
 },
 "nbformat": 4,
 "nbformat_minor": 2
}
