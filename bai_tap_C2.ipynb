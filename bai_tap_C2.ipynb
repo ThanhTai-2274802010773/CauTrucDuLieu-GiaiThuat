{
 "cells": [
  {
   "attachments": {},
   "cell_type": "markdown",
   "metadata": {},
   "source": [
    "## Chuong 2"
   ]
  },
  {
   "attachments": {},
   "cell_type": "markdown",
   "metadata": {},
   "source": [
    "Thực hành 1.1\n"
   ]
  },
  {
   "cell_type": "code",
   "execution_count": 1,
   "metadata": {},
   "outputs": [
    {
     "name": "stdout",
     "output_type": "stream",
     "text": [
      "[7, 15, 19, 35, 42, 60, 120, 280]\n"
     ]
    }
   ],
   "source": [
    "#Bubble Sort\n",
    "def bubble_sort(arr):\n",
    "    for i in range(len(arr)):\n",
    "        for j in range(len(arr) - 1):\n",
    "            if arr[j] > arr[j+1]:\n",
    "                arr[j], arr[j+1] = arr[j+1], arr[j]\n",
    "\n",
    "arr = [120, 35, 60, 42, 280, 7, 15, 19]\n",
    "bubble_sort(arr)\n",
    "print(arr)"
   ]
  },
  {
   "attachments": {},
   "cell_type": "markdown",
   "metadata": {},
   "source": [
    "Thực hành 1.2"
   ]
  },
  {
   "cell_type": "code",
   "execution_count": 2,
   "metadata": {},
   "outputs": [
    {
     "name": "stdout",
     "output_type": "stream",
     "text": [
      "Mãng được sắp xếp là:\n",
      "-155-30-10-1 12 15 32 52 60 71 75 90"
     ]
    }
   ],
   "source": [
    "#Bubble_sort:\n",
    "def bubble_Sort(arr):\n",
    "    n = len(arr) #độ dài của arr\n",
    "    swapped = False \n",
    "    for i in range (n-1):\n",
    "        for j in range (0, n-i-1):\n",
    "            if arr[j] > arr[j+1]:\n",
    "                swapped = True\n",
    "                arr[j], arr[j+1] = arr[j+1], arr[j] #hoán đổi\n",
    "        if not swapped:\n",
    "            return\n",
    "arr = [60, 32, 15, 12, 52, 71, 90, -1, -10, -30, -155, 75]\n",
    "bubble_Sort(arr)\n",
    "print(\"Mãng được sắp xếp là:\")\n",
    "for i in range(len(arr)):\n",
    "    print(\"% d\" % arr[i], end =\"\")"
   ]
  },
  {
   "attachments": {},
   "cell_type": "markdown",
   "metadata": {},
   "source": [
    "Thuc hanh 1.3"
   ]
  },
  {
   "cell_type": "code",
   "execution_count": 1,
   "metadata": {},
   "outputs": [
    {
     "name": "stdout",
     "output_type": "stream",
     "text": [
      "mang chua duoc sap xep la [25, 17, 7, 14, 6, 3, 100, -2, -10, -50]\n",
      "Mang duoc sap xep la: [-50, -10, -2, 3, 6, 7, 14, 17, 25, 100]\n"
     ]
    }
   ],
   "source": [
    "#Bubble_sort:\n",
    "def bubbleSort(arr):\n",
    "    for i in range(len(arr)):\n",
    "        for j in range(0, len(arr) - i - 1):\n",
    "            if arr[j] > arr[j+1]:\n",
    "                temp = arr[j]\n",
    "                arr[j] = arr[j+1]\n",
    "                arr[j+1] = temp\n",
    "arr = [25, 17, 7, 14, 6, 3, 100, -2, -10, -50]\n",
    "print(\"mang chua duoc sap xep la\", arr)\n",
    "bubbleSort(arr)\n",
    "print(\"Mang duoc sap xep la:\", arr)"
   ]
  },
  {
   "attachments": {},
   "cell_type": "markdown",
   "metadata": {},
   "source": [
    "Thuc hanh 2.1"
   ]
  },
  {
   "cell_type": "code",
   "execution_count": 2,
   "metadata": {},
   "outputs": [
    {
     "name": "stdout",
     "output_type": "stream",
     "text": [
      " 12\n",
      " 15\n",
      " 18\n",
      " 30\n",
      " 31\n",
      " 130\n",
      " 150\n"
     ]
    }
   ],
   "source": [
    "#insertion sort:\n",
    "def insertion_s(arr):\n",
    "    for i in range (1, len(arr)):\n",
    "        key = arr[i]\n",
    "        #Di chuyen cac phan tu cuar arr[0...i-1], lon hon key,\n",
    "        #den mot vi tri phia truoc vi tri hien tai\n",
    "        j = i-1\n",
    "        while (j >= 0 and key < arr[j]):\n",
    "            arr[j + 1] = arr[j]\n",
    "            j-=1\n",
    "        arr[j+1]=key\n",
    "arr = [12, 31, 130, 15, 18, 150, 30]\n",
    "insertion_s(arr)\n",
    "for i in range(len(arr)):\n",
    "    print(\"% d\" %arr[i])\n"
   ]
  },
  {
   "attachments": {},
   "cell_type": "markdown",
   "metadata": {},
   "source": [
    "Thuc hanh 2.2"
   ]
  },
  {
   "cell_type": "code",
   "execution_count": 3,
   "metadata": {},
   "outputs": [
    {
     "name": "stdout",
     "output_type": "stream",
     "text": [
      "[6, 11, 12, 13, 55, 58, 90]\n"
     ]
    }
   ],
   "source": [
    "def insertion_sort(arr):\n",
    "    n = len(arr)\n",
    "    if n <= 1:\n",
    "        return #Neu mang co 0 hoac 1 phan tu, thi mang da duoc sap xep\n",
    "    \n",
    "    for i in range(1, n):\n",
    "        key = arr[i] #Luu tru phan tu hien tai lam khoa de chen vao dung vi tri\n",
    "        j = i-1\n",
    "        while (j >= 0 and key < arr[j]):\n",
    "            #Di chuyen cac phan tu lon hon khoa mot vi tri ve phia truoc\n",
    "            arr[j+1] = arr[j]\n",
    "            j-=1\n",
    "        arr[j+1]=key\n",
    "arr = [12, 11, 13, 58, 6, 90, 55]\n",
    "insertion_sort(arr)\n",
    "print(arr) "
   ]
  },
  {
   "attachments": {},
   "cell_type": "markdown",
   "metadata": {},
   "source": [
    "Thuc hanh 3.1"
   ]
  },
  {
   "cell_type": "code",
   "execution_count": 4,
   "metadata": {},
   "outputs": [
    {
     "name": "stdout",
     "output_type": "stream",
     "text": [
      "Sorted array\n",
      " 10\n",
      " 15\n",
      " 25\n",
      " 52\n",
      " 55\n",
      " 140\n",
      " 250\n"
     ]
    }
   ],
   "source": [
    "#selection sort\n",
    "import sys\n",
    "arr = [140, 25, 15, 52, 10, 250, 55]\n",
    "for i in range(len(arr)):\n",
    "    #Tm kiem phan tu be nhat trong day\n",
    "    min = i\n",
    "    for j in range(i+1, len(arr)):\n",
    "        if arr[min]>arr[j]:\n",
    "            min = j\n",
    "    #Doi cho phan tu\n",
    "    arr[i], arr[min] = arr[min], arr[i]\n",
    "print(\"Sorted array\")\n",
    "for i in range(len(arr)):\n",
    "    print(\"% d\" %arr[i])"
   ]
  },
  {
   "attachments": {},
   "cell_type": "markdown",
   "metadata": {},
   "source": [
    "Thuc hanh 3.2"
   ]
  },
  {
   "cell_type": "code",
   "execution_count": 5,
   "metadata": {},
   "outputs": [
    {
     "name": "stdout",
     "output_type": "stream",
     "text": [
      "Mang sau khi sap xep la:\n",
      "[-210, -92, -90, -25, 0, 15, 40, 80, 500, 747, 999, 1050]\n"
     ]
    }
   ],
   "source": [
    "def selection_Sort(array, n):\n",
    "\n",
    "    for index in range(n):\n",
    "        min_index = index\n",
    "\n",
    "        for j in range(index + 1, n):\n",
    "            #chon phan tu nho nhat moi lan lap\n",
    "            if array[j] < array[min_index]:\n",
    "                min_index = j\n",
    "                #hoan doi cac phan tu de sap xep mang\n",
    "        (array[index], array[min_index]) = (array[min_index], array[index])\n",
    "\n",
    "arr = [-25, 40, 0, 15, -90, 80, -92, -210, 747, 500, 1050, 999]\n",
    "n = len(arr)\n",
    "selection_Sort(arr, n)\n",
    "print(\"Mang sau khi sap xep la:\")\n",
    "print(arr)  "
   ]
  }
 ],
 "metadata": {
  "kernelspec": {
   "display_name": "Python 3",
   "language": "python",
   "name": "python3"
  },
  "language_info": {
   "codemirror_mode": {
    "name": "ipython",
    "version": 3
   },
   "file_extension": ".py",
   "mimetype": "text/x-python",
   "name": "python",
   "nbconvert_exporter": "python",
   "pygments_lexer": "ipython3",
   "version": "3.11.0 (main, Oct 24 2022, 18:26:48) [MSC v.1933 64 bit (AMD64)]"
  },
  "orig_nbformat": 4,
  "vscode": {
   "interpreter": {
    "hash": "c261aea317cc0286b3b3261fbba9abdec21eaa57589985bb7a274bf54d6cc0a7"
   }
  }
 },
 "nbformat": 4,
 "nbformat_minor": 2
}
