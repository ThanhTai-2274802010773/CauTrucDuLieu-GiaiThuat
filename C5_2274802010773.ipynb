{
 "cells": [
  {
   "attachments": {},
   "cell_type": "markdown",
   "metadata": {},
   "source": [
    "### Thực hành 1.1:"
   ]
  },
  {
   "cell_type": "code",
   "execution_count": 1,
   "metadata": {},
   "outputs": [
    {
     "data": {
      "text/plain": [
       "['data science', 'data analytics', 'data structures and algorithms']"
      ]
     },
     "execution_count": 1,
     "metadata": {},
     "output_type": "execute_result"
    }
   ],
   "source": [
    "myStack = [] \n",
    "myStack.append('data science') \n",
    "myStack.append('data analytics')\n",
    "myStack.append('data structures and algorithms')\n",
    "myStack.append('big data')\n",
    "myStack.append('learning data analytics')\n",
    "myStack\n",
    "myStack.pop()\n",
    "myStack.pop()\n",
    "myStack"
   ]
  },
  {
   "attachments": {},
   "cell_type": "markdown",
   "metadata": {},
   "source": [
    "### Thực hành 1.2: "
   ]
  },
  {
   "cell_type": "code",
   "execution_count": 2,
   "metadata": {},
   "outputs": [
    {
     "data": {
      "text/plain": [
       "deque(['data science', 'data structures and algorithms'])"
      ]
     },
     "execution_count": 2,
     "metadata": {},
     "output_type": "execute_result"
    }
   ],
   "source": [
    "from collections import deque \n",
    "myStack = deque()\n",
    "myStack.append('data science')\n",
    "myStack.append('data structures and algorithms')\n",
    "myStack.append('learning data analytics')\n",
    "myStack.append('big data')\n",
    "myStack\n",
    "myStack.pop() #??\n",
    "myStack.pop()\n",
    "myStack"
   ]
  },
  {
   "attachments": {},
   "cell_type": "markdown",
   "metadata": {},
   "source": [
    "### Thực hành 1.3:"
   ]
  },
  {
   "cell_type": "code",
   "execution_count": 3,
   "metadata": {},
   "outputs": [
    {
     "name": "stdout",
     "output_type": "stream",
     "text": [
      "Stack: 19->18->17->16->15->14->13->12->11->10->9->8->7->6->5->4->3->2->\n",
      "Pop: 19\n",
      "Pop: 18\n",
      "Pop: 17\n",
      "Pop: 16\n",
      "Pop: 15\n",
      "Pop: 14\n",
      "Pop: 13\n",
      "Pop: 12\n",
      "Stack: 11->10->9->8->7->6->5->4->3->2->\n"
     ]
    }
   ],
   "source": [
    "class Node:\n",
    "    def __init__(self, value):\n",
    "        self.value = value\n",
    "        self.next = None\n",
    "\n",
    "class Stack:\n",
    "    def __init__(self):\n",
    "        self.head = Node(\"head\")\n",
    "        self.size = 0\n",
    "\n",
    "    def __str__(self):\n",
    "        cur = self.head.next\n",
    "        out = \"\"\n",
    "        while cur:\n",
    "            out += str(cur.value) + \"->\"\n",
    "            cur = cur.next\n",
    "        return out[:-3]\n",
    "\n",
    "    def getSize(self):\n",
    "        return self.size\n",
    "    \n",
    "    def isEmpty(self):\n",
    "        return self.size == 0\n",
    "    \n",
    "    def peek(self):\n",
    "        if self.isEmpty():\n",
    "            raise Exception(\"Peeking stack\")\n",
    "        return self.head.next.value\n",
    "\n",
    "    def push(self, value):\n",
    "        node = Node(value)\n",
    "        node.next = self.head.next\n",
    "        self.head.next = node\n",
    "        self.size += 1\n",
    "    \n",
    "    def pop(self):\n",
    "        if self.isEmpty():\n",
    "            raise Exception(\"Popping from an empty stack\")\n",
    "        remove = self.head.next\n",
    "        self.head.next = self.head.next.next\n",
    "        self.size -= 1\n",
    "        return remove.value\n",
    "\n",
    "if __name__ == \"__main__\":\n",
    "    stack = Stack()\n",
    "    for i in range(1, 20):\n",
    "        stack.push(i)\n",
    "    print(f\"Stack: {stack}\")\n",
    "    for _ in range(1, 9):\n",
    "        remove = stack.pop()\n",
    "        print(f\"Pop: {remove}\")\n",
    "    print(f\"Stack: {stack}\")"
   ]
  },
  {
   "attachments": {},
   "cell_type": "markdown",
   "metadata": {},
   "source": [
    "### Thực hành 2.1:"
   ]
  },
  {
   "cell_type": "code",
   "execution_count": 4,
   "metadata": {},
   "outputs": [
    {
     "name": "stdout",
     "output_type": "stream",
     "text": [
      "['data science', 'data analytics', 'data structures and algorithms', 'big data', 'learning data analytics']\n",
      "data science\n",
      "data analytics\n",
      "['data structures and algorithms', 'big data', 'learning data analytics']\n"
     ]
    }
   ],
   "source": [
    "myQueue = [] \n",
    "myQueue.append('data science') \n",
    "myQueue.append('data analytics')\n",
    "myQueue.append('data structures and algorithms')\n",
    "myQueue.append('big data')\n",
    "myQueue.append('learning data analytics')\n",
    "print(myQueue)\n",
    "print(myQueue.pop(0)) \n",
    "print(myQueue.pop(0))\n",
    "print(myQueue)"
   ]
  },
  {
   "attachments": {},
   "cell_type": "markdown",
   "metadata": {},
   "source": [
    "### Thực hành 2.2:"
   ]
  },
  {
   "cell_type": "code",
   "execution_count": 5,
   "metadata": {},
   "outputs": [
    {
     "name": "stdout",
     "output_type": "stream",
     "text": [
      "deque(['data analytics', 'data structures and algorithms', 'big data', 'learning data analytics'])\n",
      "data analytics\n",
      "data structures and algorithms\n",
      "deque(['big data', 'learning data analytics'])\n"
     ]
    }
   ],
   "source": [
    "from collections import deque\n",
    "q = deque() \n",
    "q.append('data analytics') \n",
    "q.append('data structures and algorithms')\n",
    "q.append('big data')\n",
    "q.append('learning data analytics')\n",
    "print(q)\n",
    "print(q.popleft()) \n",
    "print(q.popleft())\n",
    "print(q)"
   ]
  },
  {
   "attachments": {},
   "cell_type": "markdown",
   "metadata": {},
   "source": [
    "### Thực hành 2.3: "
   ]
  },
  {
   "cell_type": "code",
   "execution_count": 6,
   "metadata": {},
   "outputs": [
    {
     "name": "stdout",
     "output_type": "stream",
     "text": [
      "0\n",
      "4\n",
      "data analytics\n",
      "data structures and algorithms\n"
     ]
    }
   ],
   "source": [
    "from queue import Queue\n",
    "q = Queue(maxsize = 5)\n",
    "print(q.qsize())\n",
    "q.put('data analytics') \n",
    "q.put('data structures and algorithms')\n",
    "q.put('big data')\n",
    "q.put('learning data analytics')\n",
    "print(q.qsize())\n",
    "print(q.get()) \n",
    "print(q.get())"
   ]
  }
 ],
 "metadata": {
  "kernelspec": {
   "display_name": "Python 3",
   "language": "python",
   "name": "python3"
  },
  "language_info": {
   "codemirror_mode": {
    "name": "ipython",
    "version": 3
   },
   "file_extension": ".py",
   "mimetype": "text/x-python",
   "name": "python",
   "nbconvert_exporter": "python",
   "pygments_lexer": "ipython3",
   "version": "3.11.0 (main, Oct 24 2022, 18:26:48) [MSC v.1933 64 bit (AMD64)]"
  },
  "orig_nbformat": 4,
  "vscode": {
   "interpreter": {
    "hash": "c261aea317cc0286b3b3261fbba9abdec21eaa57589985bb7a274bf54d6cc0a7"
   }
  }
 },
 "nbformat": 4,
 "nbformat_minor": 2
}
