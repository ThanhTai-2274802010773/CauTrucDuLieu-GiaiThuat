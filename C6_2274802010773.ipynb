{
 "cells": [
  {
   "attachments": {},
   "cell_type": "markdown",
   "metadata": {},
   "source": [
    "### Thực hành 01:"
   ]
  },
  {
   "cell_type": "code",
   "execution_count": 1,
   "metadata": {},
   "outputs": [
    {
     "name": "stdout",
     "output_type": "stream",
     "text": [
      "The hash value is 1\n",
      "The hash value is 2\n",
      "The hash value is 3\n",
      "The hash value is 2\n",
      "The hash value is 4\n",
      "The hash value is 0\n"
     ]
    }
   ],
   "source": [
    "def hash_key( key, m):\n",
    "    return (key % m) \n",
    "m = 7\n",
    "print(f'The hash value is {hash_key(15,m)}') #? ?\n",
    "print(f'The hash value is {hash_key(2,m)}')\n",
    "print(f'The hash value is {hash_key(3,m)}')\n",
    "print(f'The hash value is {hash_key(9,m)}')\n",
    "print(f'The hash value is {hash_key(11,m)}')\n",
    "print(f'The hash value is {hash_key(7,m)}')"
   ]
  },
  {
   "attachments": {},
   "cell_type": "markdown",
   "metadata": {},
   "source": [
    "### Thực hành 02:"
   ]
  },
  {
   "cell_type": "code",
   "execution_count": 2,
   "metadata": {},
   "outputs": [
    {
     "name": "stdout",
     "output_type": "stream",
     "text": [
      "0 --> MachineLearning --> DataAnalytics \n",
      "1 --> DataStructure  --> IoT \n",
      "2 \n",
      "3 \n",
      "4 \n",
      "5 --> DataScience --> Probability \n",
      "6 \n",
      "7 \n",
      "8 \n",
      "9 --> BigData \n"
     ]
    }
   ],
   "source": [
    "def display_hash(hashTable):\n",
    "    for i in range(len(hashTable)):\n",
    "        print(i, end = \" \")\n",
    "        \n",
    "        for j in hashTable[i]:\n",
    "            print(\"-->\", end = \" \")\n",
    "            print(j, end = \" \")\n",
    "        \n",
    "        print()\n",
    "HashTable = [[] for _ in range(10)]\n",
    "def Hashing(keyvalue): \n",
    "    return (keyvalue % len(HashTable))\n",
    "\n",
    "def insert(Hashtable, keyvalue, value): \n",
    "\n",
    "    hash_key = Hashing(keyvalue)\n",
    "    Hashtable[hash_key].append(value)\n",
    "\n",
    "insert(HashTable, 10, 'MachineLearning' ) \n",
    "insert(HashTable, 45, 'DataScience')\n",
    "insert(HashTable, 20, 'DataAnalytics')\n",
    "insert(HashTable, 9, 'BigData')\n",
    "insert(HashTable, 21, 'DataStructure ' )\n",
    "insert(HashTable, 41, 'IoT')\n",
    "insert(HashTable, 35, 'Probability')\n",
    "display_hash (HashTable) "
   ]
  },
  {
   "attachments": {},
   "cell_type": "markdown",
   "metadata": {},
   "source": [
    "### Thực hành 03:"
   ]
  },
  {
   "cell_type": "code",
   "execution_count": 16,
   "metadata": {},
   "outputs": [
    {
     "name": "stdout",
     "output_type": "stream",
     "text": [
      "False\n",
      "False\n",
      "IoT\n",
      "machine learning\n",
      "5\n"
     ]
    }
   ],
   "source": [
    "class Node:\n",
    "    def __init__(self, key, value):\n",
    "        self.key = key\n",
    "        self.value = value\n",
    "        self.next = None\n",
    "\n",
    "class HashTable:\n",
    "    def __init__(self, capacity):\n",
    "        self.capacity = capacity\n",
    "        self.size = 0\n",
    "        self.table = [None] * capacity\n",
    "\n",
    "    def hash_function(self, key):\n",
    "        return hash(key) % self.capacity\n",
    "\n",
    "    def insert(self, key, value):\n",
    "        index = self.hash_function(key)\n",
    "\n",
    "        if self.table[index] is None:\n",
    "            self.table[index] = Node(key, value)\n",
    "            self.size += 1\n",
    "        else:\n",
    "            current = self.table[index]\n",
    "            while current:\n",
    "                if current == key:\n",
    "                    current.value = value\n",
    "                    return\n",
    "                current = current.next\n",
    "            new_node = Node(key, value)\n",
    "            new_node.next = self.table[index]\n",
    "            self.table[index] = new_node\n",
    "            self.size += 1\n",
    "    \n",
    "    def search(self, key):\n",
    "        index = self.hash_function(key)\n",
    "        current = self.table[index]\n",
    "        while current:\n",
    "            if current.key == key:\n",
    "                return current.value\n",
    "            current = current.next\n",
    "        raise KeyError(key)\n",
    "    \n",
    "    def remove(self, key):\n",
    "        index = self.hash_function(key)\n",
    "        current = self.table[index]\n",
    "        prev = None\n",
    "\n",
    "        while current:\n",
    "            if current.key == key:\n",
    "                if prev:\n",
    "                    prev.next = current.next\n",
    "                else:\n",
    "                    self.table[index] = current.next\n",
    "                self.size -= 1\n",
    "                return\n",
    "            prev = current\n",
    "            current = current.next\n",
    "        raise KeyError(key)\n",
    "    \n",
    "    def __len__(self):\n",
    "        return self.size\n",
    "    \n",
    "    def __contains__(self, key):\n",
    "        try:\n",
    "            self.search(key)\n",
    "            return True\n",
    "        except KeyError:\n",
    "            return False\n",
    "if __name__ == \"__main__\":\n",
    "    ht = HashTable(7)\n",
    "    ht.insert(15, \"data science\")\n",
    "    ht.insert(11, \"IoT\")\n",
    "    ht.insert(27, \"machine learning\")\n",
    "    ht.insert(8, \"deep learning\")\n",
    "    ht.insert(32, \"computer science\")\n",
    "\n",
    "    print(\"data science\" in ht)  # True\n",
    "    print(\"IT\" in ht)  # False\n",
    "\n",
    "    print(ht.search(11))  # Search by key, not value\n",
    "\n",
    "    ht.insert(\"big data\", 18)\n",
    "    print(ht.search(27))  # \"machine learning\"\n",
    "    ht.remove(11)  # Remove by key, not value\n",
    "    print(len(ht))  # 5"
   ]
  }
 ],
 "metadata": {
  "kernelspec": {
   "display_name": "Python 3",
   "language": "python",
   "name": "python3"
  },
  "language_info": {
   "codemirror_mode": {
    "name": "ipython",
    "version": 3
   },
   "file_extension": ".py",
   "mimetype": "text/x-python",
   "name": "python",
   "nbconvert_exporter": "python",
   "pygments_lexer": "ipython3",
   "version": "3.11.0"
  },
  "orig_nbformat": 4,
  "vscode": {
   "interpreter": {
    "hash": "c261aea317cc0286b3b3261fbba9abdec21eaa57589985bb7a274bf54d6cc0a7"
   }
  }
 },
 "nbformat": 4,
 "nbformat_minor": 2
}
